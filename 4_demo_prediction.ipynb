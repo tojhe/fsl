{
  "nbformat": 4,
  "nbformat_minor": 0,
  "metadata": {
    "colab": {
      "provenance": [],
      "collapsed_sections": [],
      "machine_shape": "hm",
      "background_execution": "on"
    },
    "kernelspec": {
      "name": "python3",
      "display_name": "Python 3"
    },
    "language_info": {
      "name": "python"
    },
    "gpuClass": "standard",
    "accelerator": "GPU"
  },
  "cells": [
    {
      "cell_type": "code",
      "execution_count": 1,
      "metadata": {
        "id": "xmD6Gnz1yJJh"
      },
      "outputs": [],
      "source": [
        "import os"
      ]
    },
    {
      "cell_type": "code",
      "source": [
        "os.chdir(\"/content/fsl\")"
      ],
      "metadata": {
        "id": "jxvM090XyNpc"
      },
      "execution_count": 2,
      "outputs": []
    },
    {
      "cell_type": "code",
      "source": [
        "# import packages\n",
        "from tqdm import tqdm\n",
        "\n",
        "import torch as th\n",
        "from torch import nn\n",
        "from torch.utils.data import DataLoader\n",
        "\n",
        "from torchvision.transforms import Compose, Grayscale, CenterCrop, ToTensor, ToPILImage, Resize\n",
        "from torchvision.datasets import ImageFolder\n",
        "from torchvision.models import resnet18, ResNet18_Weights\n",
        "\n",
        "from src import Learner, TaskSampler, RelationNetworks, CNNEncoder, PrototypicalNetworks"
      ],
      "metadata": {
        "id": "RIghV93SySsD"
      },
      "execution_count": 3,
      "outputs": []
    },
    {
      "cell_type": "code",
      "source": [
        "# configurations\n",
        "CONFIG = {}\n",
        "CONFIG['shot'] = 5\n",
        "CONFIG['way'] = 5\n",
        "CONFIG['query'] = 10\n",
        "DEVICE = 'cuda' if th.cuda.is_available() else 'cpu'\n",
        "if DEVICE is 'cuda':\n",
        "  print ('cuda is available as device')"
      ],
      "metadata": {
        "id": "yRL1kWqVycRC",
        "colab": {
          "base_uri": "https://localhost:8080/"
        },
        "outputId": "848427d1-96b4-4e98-c0d6-beaba2997755"
      },
      "execution_count": 4,
      "outputs": [
        {
          "output_type": "stream",
          "name": "stdout",
          "text": [
            "cuda is available as device\n"
          ]
        }
      ]
    },
    {
      "cell_type": "code",
      "source": [
        "# load pretrained model for backbone\n",
        "pretrained_weights = ResNet18_Weights.IMAGENET1K_V1\n",
        "backbone_model_1 = resnet18(weights=pretrained_weights)\n",
        "\n",
        "# Change final layer output from number of classes \n",
        "# to flattened feature vector from resnet's preceding architecure\n",
        "backbone_model_1.fc = nn.Flatten()\n",
        "model_1 = backbone_model_1.cuda()\n",
        "\n",
        "# Create FSL classifier\n",
        "proton_classifier_1 = PrototypicalNetworks(backbone=model_1, output_softmax_score=False)\n",
        "\n",
        "# Load trained parameters\n",
        "proton_classifier_1_state_dict = th.load(\"./models/protonet100.pkl\", map_location=th.device('cpu'))\n",
        "proton_classifier_1.load_state_dict(proton_classifier_1_state_dict)"
      ],
      "metadata": {
        "colab": {
          "base_uri": "https://localhost:8080/"
        },
        "id": "SVDX0pSQNa8k",
        "outputId": "d9f68aa6-1bee-4383-9860-b2531a6cc023"
      },
      "execution_count": 5,
      "outputs": [
        {
          "output_type": "execute_result",
          "data": {
            "text/plain": [
              "<All keys matched successfully>"
            ]
          },
          "metadata": {},
          "execution_count": 5
        }
      ]
    },
    {
      "cell_type": "code",
      "source": [
        "# Image transformation pipeline\n",
        "\n",
        "image_transform_pipe = Compose(\n",
        "    [\n",
        "        Grayscale(num_output_channels=3),\n",
        "        CenterCrop(224),\n",
        "        Resize(128),\n",
        "        ToTensor()\n",
        "    ]\n",
        ")\n",
        "\n",
        "# load Test dataset\n",
        "test_dataset = ImageFolder(root =\"./few_shot_data/test\", transform=image_transform_pipe)\n",
        "\n",
        "# create task samplers\n",
        "test_sampler = TaskSampler(test_dataset, n_way=CONFIG['way'], n_shot=CONFIG['shot'], n_query=CONFIG['query'], n_tasks=20)"
      ],
      "metadata": {
        "id": "2hC5ngZ6yc3Z"
      },
      "execution_count": 6,
      "outputs": []
    },
    {
      "cell_type": "code",
      "source": [
        "test_loader = DataLoader(\n",
        "    test_dataset,\n",
        "    batch_sampler=test_sampler,\n",
        "    num_workers=8,\n",
        "    pin_memory=True,\n",
        "    collate_fn=test_sampler.episodic_collate_fn,\n",
        ")"
      ],
      "metadata": {
        "id": "YeLeJxEgyrkD"
      },
      "execution_count": 7,
      "outputs": []
    },
    {
      "cell_type": "code",
      "source": [
        "(\n",
        "  support_images,\n",
        "  support_labels,\n",
        "  query_images,\n",
        "  query_labels,\n",
        "  unique_classes_index\n",
        " ) = next(iter(test_loader))"
      ],
      "metadata": {
        "id": "tgahCzd4MWHX"
      },
      "execution_count": 8,
      "outputs": []
    },
    {
      "cell_type": "code",
      "source": [
        "ToPILImage()(query_images[0])"
      ],
      "metadata": {
        "colab": {
          "base_uri": "https://localhost:8080/",
          "height": 145
        },
        "id": "TFq7DES2NIOt",
        "outputId": "04c1920c-ba26-4822-bc74-b72977679ea3"
      },
      "execution_count": 9,
      "outputs": [
        {
          "output_type": "execute_result",
          "data": {
            "text/plain": [
              "<PIL.Image.Image image mode=RGB size=128x128 at 0x7EFEC8701090>"
            ],
            "image/png": "[encoded data removed]"
          },
          "metadata": {},
          "execution_count": 9
        }
      ]
    },
    {
      "cell_type": "code",
      "source": [
        "predicted_label = Learner.predict_single_image(\n",
        "    support_images.cuda(), \n",
        "    support_labels.cuda(), \n",
        "    query_images[0].cuda(), \n",
        "    proton_classifier_1.cuda()\n",
        "  )\n",
        "\n",
        "print (f\"Predicted label: {predicted_label.item()}\")\n",
        "print (f\"True label: {query_labels[0].item()}\")"
      ],
      "metadata": {
        "colab": {
          "base_uri": "https://localhost:8080/"
        },
        "id": "lc30KKUIOZcz",
        "outputId": "a733dbe8-56d2-461e-b456-f67393170b6c"
      },
      "execution_count": 10,
      "outputs": [
        {
          "output_type": "stream",
          "name": "stdout",
          "text": [
            "Predicted label: 0\n",
            "True label: 0\n"
          ]
        }
      ]
    },
    {
      "cell_type": "code",
      "source": [
        "\n"
      ],
      "metadata": {
        "id": "UfPWlvqzS6BP"
      },
      "execution_count": null,
      "outputs": []
    }
  ]
}