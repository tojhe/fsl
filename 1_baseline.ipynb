{
 "cells": [
  {
   "cell_type": "code",
   "execution_count": null,
   "metadata": {
    "id": "aacDqL02bf6h"
   },
   "outputs": [],
   "source": [
    "import os"
   ]
  },
  {
   "cell_type": "code",
   "execution_count": null,
   "metadata": {
    "id": "H8Ho_NJiKYtc"
   },
   "outputs": [],
   "source": [
    "os.chdir(\"/content/fsl\")"
   ]
  },
  {
   "cell_type": "code",
   "execution_count": null,
   "metadata": {
    "id": "LjibC8OQKvaa"
   },
   "outputs": [],
   "source": [
    "# import packages\n",
    "from tqdm import tqdm\n",
    "\n",
    "import torch as th\n",
    "from torch import nn\n",
    "from torch.optim import SGD\n",
    "from torch.utils.data import DataLoader\n",
    "from torch.nn.modules.loss import CrossEntropyLoss, MSELoss\n",
    "\n",
    "from torchvision.transforms import Compose, Grayscale, CenterCrop, ToTensor, ToPILImage, Resize\n",
    "from torchvision.models import resnet18, ResNet18_Weights\n",
    "from torchvision.datasets import ImageFolder\n",
    "\n",
    "from src import Learner, TaskSampler, PrototypicalNetworks, RelationNetworks, CNNEncoder"
   ]
  },
  {
   "cell_type": "code",
   "execution_count": null,
   "metadata": {
    "colab": {
     "base_uri": "https://localhost:8080/"
    },
    "id": "oy7oTJvOSPon",
    "outputId": "ca4dbe31-d583-4a69-fca4-b9a1282edd03"
   },
   "outputs": [
    {
     "name": "stdout",
     "output_type": "stream",
     "text": [
      "cuda is available as device\n"
     ]
    }
   ],
   "source": [
    "# configurations\n",
    "CONFIG = {}\n",
    "CONFIG['shot'] = 5\n",
    "CONFIG['way'] = 5\n",
    "CONFIG['query'] = 10\n",
    "DEVICE = 'cuda' if th.cuda.is_available() else 'cpu'\n",
    "if DEVICE is 'cuda':\n",
    "  print ('cuda is available as device')"
   ]
  },
  {
   "cell_type": "code",
   "execution_count": null,
   "metadata": {
    "id": "lW7gVywcQ2aY"
   },
   "outputs": [],
   "source": [
    "# Image transformation pipeline\n",
    "\n",
    "image_transform_pipe = Compose(\n",
    "    [\n",
    "        Grayscale(num_output_channels=3),\n",
    "        CenterCrop(224),\n",
    "        Resize(128),\n",
    "        ToTensor()\n",
    "    ]\n",
    ")\n",
    "\n",
    "# load Train dataset\n",
    "train_dataset = ImageFolder(root = \"./few_shot_data/train\", transform=image_transform_pipe)\n",
    "# load Validation dataset\n",
    "val_dataset = ImageFolder(root = \"./few_shot_data/val\", transform=image_transform_pipe)\n",
    "# load Test dataset\n",
    "test_dataset = ImageFolder(root =\"./few_shot_data/test\", transform=image_transform_pipe)"
   ]
  },
  {
   "cell_type": "code",
   "execution_count": null,
   "metadata": {
    "id": "1_bFYsweR39c"
   },
   "outputs": [],
   "source": [
    "# Create task samplers\n",
    "train_sampler = TaskSampler(train_dataset, n_way=CONFIG['way'], n_shot=CONFIG['shot'], n_query=CONFIG['query'], n_tasks=500)\n",
    "\n",
    "validation_sampler = TaskSampler(val_dataset, n_way=CONFIG['way'], n_shot=CONFIG['shot'], n_query=CONFIG['query'], n_tasks=100)\n",
    "\n",
    "test_sampler = TaskSampler(test_dataset, n_way=CONFIG['way'], n_shot=CONFIG['shot'], n_query=CONFIG['query'], n_tasks=20)"
   ]
  },
  {
   "cell_type": "code",
   "execution_count": null,
   "metadata": {
    "id": "Hl3nVyjqW9zZ"
   },
   "outputs": [],
   "source": [
    "# Create dataloaders\n",
    "train_loader = DataLoader(\n",
    "    train_dataset,\n",
    "    batch_sampler=train_sampler,\n",
    "    num_workers=2,\n",
    "    pin_memory=True,\n",
    "    collate_fn=train_sampler.episodic_collate_fn,\n",
    ")\n",
    "\n",
    "val_loader = DataLoader(\n",
    "    val_dataset,\n",
    "    batch_sampler=validation_sampler,\n",
    "    num_workers=2,\n",
    "    pin_memory=True,\n",
    "    collate_fn=validation_sampler.episodic_collate_fn,\n",
    ")\n",
    "\n",
    "test_loader = DataLoader(\n",
    "    test_dataset,\n",
    "    batch_sampler=test_sampler,\n",
    "    num_workers=2,\n",
    "    pin_memory=True,\n",
    "    collate_fn=test_sampler.episodic_collate_fn,\n",
    ")"
   ]
  },
  {
   "cell_type": "markdown",
   "metadata": {
    "id": "gMCogOvJwBjT"
   },
   "source": [
    "## Run a baseline model.\n",
    "Use an unfitted Prototypical Networks model, with an ImageNet pretrained Resnet model as backbone. Result gives a baseline result for a just out of the box model"
   ]
  },
  {
   "cell_type": "code",
   "execution_count": null,
   "metadata": {
    "id": "cb2UimwAyFef"
   },
   "outputs": [],
   "source": [
    "# load pretrained model for backbone\n",
    "pretrained_weights = ResNet18_Weights.IMAGENET1K_V1\n",
    "backbone_model = resnet18(weights=pretrained_weights)\n",
    "\n",
    "# Change final layer output from number of classes \n",
    "# to flattened feature vector from resnet's preceding architecure\n",
    "backbone_model.fc = nn.Flatten()\n",
    "model = backbone_model.cuda()"
   ]
  },
  {
   "cell_type": "code",
   "execution_count": null,
   "metadata": {
    "id": "QeN_BWYw0RtE"
   },
   "outputs": [],
   "source": [
    "# Create baseline FSL classifier\n",
    "baseline_classifier = PrototypicalNetworks(backbone=model, output_softmax_score=True)"
   ]
  },
  {
   "cell_type": "code",
   "execution_count": null,
   "metadata": {
    "colab": {
     "base_uri": "https://localhost:8080/"
    },
    "id": "yWGWVyo82CGs",
    "outputId": "2b462382-bfe5-4706-b862-e9f3d77046a2"
   },
   "outputs": [
    {
     "name": "stderr",
     "output_type": "stream",
     "text": [
      "100%|██████████| 20/20 [00:04<00:00,  4.72it/s, task_accuracy=0.6]"
     ]
    },
    {
     "name": "stdout",
     "output_type": "stream",
     "text": [
      "\n",
      " Test overall average accuracy: 0.582\n"
     ]
    },
    {
     "name": "stderr",
     "output_type": "stream",
     "text": [
      "\n"
     ]
    }
   ],
   "source": [
    "# Run baseline test prediction\n",
    "baseline_classifier.eval()\n",
    "with th.no_grad():\n",
    "  with tqdm(test_loader, total=20) as prediction_tasks:\n",
    "    total_predictions = 0\n",
    "    total_correct_predictions = 0\n",
    "    for task_support_images,\\\n",
    "      task_support_labels, \\\n",
    "      task_query_images, \\\n",
    "      task_query_labels, \\\n",
    "      task_class_ids in prediction_tasks:\n",
    "\n",
    "      task_prediction_scores = baseline_classifier(\n",
    "          task_support_images.to(DEVICE), \n",
    "          task_support_labels.to(DEVICE), \n",
    "          task_query_images.to(DEVICE)\n",
    "        )\n",
    "      \n",
    "      task_prediction_labels = th.argmax(task_prediction_scores,-1)\n",
    "      task_correct_predictions = (task_prediction_labels == task_query_labels.to(DEVICE)).float()\n",
    "      task_accuracy = th.mean(task_correct_predictions).item()\n",
    "\n",
    "      total_predictions += len(task_prediction_labels)\n",
    "      total_correct_predictions += th.sum(task_correct_predictions).item()\n",
    "\n",
    "      prediction_tasks.set_postfix(task_accuracy = task_accuracy)\n",
    "    \n",
    "    overall_accuracy = total_correct_predictions / total_predictions\n",
    "  \n",
    "  print (f\"\\n Test overall average accuracy: {overall_accuracy}\")"
   ]
  },
  {
   "cell_type": "markdown",
   "metadata": {
    "id": "7Uc3sApgw3eQ"
   },
   "source": [
    "## Understand basic performance of Prototypical Networks after simple training"
   ]
  },
  {
   "cell_type": "code",
   "execution_count": null,
   "metadata": {
    "id": "j3F6oJDv5JSo"
   },
   "outputs": [],
   "source": [
    "# load pretrained model for backbone\n",
    "pretrained_weights = ResNet18_Weights.IMAGENET1K_V1\n",
    "backbone_model_1 = resnet18(weights=pretrained_weights)\n",
    "\n",
    "# Change final layer output from number of classes \n",
    "# to flattened feature vector from resnet's preceding architecure\n",
    "backbone_model_1.fc = nn.Flatten()\n",
    "model_1 = backbone_model_1.cuda()\n",
    "\n",
    "classifier_1 = PrototypicalNetworks(backbone=model_1, output_softmax_score=False)"
   ]
  },
  {
   "cell_type": "code",
   "execution_count": null,
   "metadata": {
    "colab": {
     "base_uri": "https://localhost:8080/"
    },
    "id": "abD-mOizEJ2n",
    "outputId": "027151cf-d43b-4f6f-84ae-c0b421a6f97e"
   },
   "outputs": [
    {
     "name": "stdout",
     "output_type": "stream",
     "text": [
      "Training Epoch 0\n"
     ]
    },
    {
     "name": "stderr",
     "output_type": "stream",
     "text": [
      "100%|██████████| 500/500 [00:26<00:00, 19.23it/s, episode_accuracy=0.94, episode_loss=0.185, epoch_accuracy=0.892, epoch_loss=0.308]\n"
     ]
    },
    {
     "name": "stdout",
     "output_type": "stream",
     "text": [
      "Validating Epoch 0\n"
     ]
    },
    {
     "name": "stderr",
     "output_type": "stream",
     "text": [
      "100%|██████████| 100/100 [00:05<00:00, 18.42it/s, episode_accuracy=1, overall_accuracy=0.874]\n"
     ]
    },
    {
     "name": "stdout",
     "output_type": "stream",
     "text": [
      "Training Epoch 1\n"
     ]
    },
    {
     "name": "stderr",
     "output_type": "stream",
     "text": [
      "100%|██████████| 500/500 [00:25<00:00, 19.46it/s, episode_accuracy=0.82, episode_loss=0.506, epoch_accuracy=0.93, epoch_loss=0.197]\n"
     ]
    },
    {
     "name": "stdout",
     "output_type": "stream",
     "text": [
      "Validating Epoch 1\n"
     ]
    },
    {
     "name": "stderr",
     "output_type": "stream",
     "text": [
      "100%|██████████| 100/100 [00:05<00:00, 18.38it/s, episode_accuracy=0.8, overall_accuracy=0.89]\n"
     ]
    },
    {
     "name": "stdout",
     "output_type": "stream",
     "text": [
      "Training Epoch 2\n"
     ]
    },
    {
     "name": "stderr",
     "output_type": "stream",
     "text": [
      "100%|██████████| 500/500 [00:25<00:00, 19.38it/s, episode_accuracy=0.88, episode_loss=0.229, epoch_accuracy=0.944, epoch_loss=0.159]\n"
     ]
    },
    {
     "name": "stdout",
     "output_type": "stream",
     "text": [
      "Validating Epoch 2\n"
     ]
    },
    {
     "name": "stderr",
     "output_type": "stream",
     "text": [
      "100%|██████████| 100/100 [00:05<00:00, 17.78it/s, episode_accuracy=0.8, overall_accuracy=0.902]\n"
     ]
    },
    {
     "name": "stdout",
     "output_type": "stream",
     "text": [
      "Training Epoch 3\n"
     ]
    },
    {
     "name": "stderr",
     "output_type": "stream",
     "text": [
      "100%|██████████| 500/500 [00:25<00:00, 19.37it/s, episode_accuracy=0.98, episode_loss=0.0671, epoch_accuracy=0.954, epoch_loss=0.132]\n"
     ]
    },
    {
     "name": "stdout",
     "output_type": "stream",
     "text": [
      "Validating Epoch 3\n"
     ]
    },
    {
     "name": "stderr",
     "output_type": "stream",
     "text": [
      "100%|██████████| 100/100 [00:05<00:00, 18.02it/s, episode_accuracy=1, overall_accuracy=0.911]\n"
     ]
    },
    {
     "name": "stdout",
     "output_type": "stream",
     "text": [
      "Training Epoch 4\n"
     ]
    },
    {
     "name": "stderr",
     "output_type": "stream",
     "text": [
      "100%|██████████| 500/500 [00:25<00:00, 19.37it/s, episode_accuracy=1, episode_loss=0.0334, epoch_accuracy=0.96, epoch_loss=0.117]\n"
     ]
    },
    {
     "name": "stdout",
     "output_type": "stream",
     "text": [
      "Validating Epoch 4\n"
     ]
    },
    {
     "name": "stderr",
     "output_type": "stream",
     "text": [
      "100%|██████████| 100/100 [00:05<00:00, 18.05it/s, episode_accuracy=0.98, overall_accuracy=0.906]\n"
     ]
    },
    {
     "name": "stdout",
     "output_type": "stream",
     "text": [
      "Training Epoch 5\n"
     ]
    },
    {
     "name": "stderr",
     "output_type": "stream",
     "text": [
      "100%|██████████| 500/500 [00:25<00:00, 19.33it/s, episode_accuracy=0.96, episode_loss=0.166, epoch_accuracy=0.966, epoch_loss=0.102]\n"
     ]
    },
    {
     "name": "stdout",
     "output_type": "stream",
     "text": [
      "Validating Epoch 5\n"
     ]
    },
    {
     "name": "stderr",
     "output_type": "stream",
     "text": [
      "100%|██████████| 100/100 [00:05<00:00, 17.76it/s, episode_accuracy=0.96, overall_accuracy=0.913]\n"
     ]
    },
    {
     "name": "stdout",
     "output_type": "stream",
     "text": [
      "Training Epoch 6\n"
     ]
    },
    {
     "name": "stderr",
     "output_type": "stream",
     "text": [
      "100%|██████████| 500/500 [00:25<00:00, 19.30it/s, episode_accuracy=0.98, episode_loss=0.0711, epoch_accuracy=0.968, epoch_loss=0.0949]\n"
     ]
    },
    {
     "name": "stdout",
     "output_type": "stream",
     "text": [
      "Validating Epoch 6\n"
     ]
    },
    {
     "name": "stderr",
     "output_type": "stream",
     "text": [
      "100%|██████████| 100/100 [00:05<00:00, 17.81it/s, episode_accuracy=1, overall_accuracy=0.914]\n"
     ]
    },
    {
     "name": "stdout",
     "output_type": "stream",
     "text": [
      "Training Epoch 7\n"
     ]
    },
    {
     "name": "stderr",
     "output_type": "stream",
     "text": [
      "100%|██████████| 500/500 [00:26<00:00, 19.13it/s, episode_accuracy=1, episode_loss=0.0144, epoch_accuracy=0.97, epoch_loss=0.0857]\n"
     ]
    },
    {
     "name": "stdout",
     "output_type": "stream",
     "text": [
      "Validating Epoch 7\n"
     ]
    },
    {
     "name": "stderr",
     "output_type": "stream",
     "text": [
      "100%|██████████| 100/100 [00:05<00:00, 17.64it/s, episode_accuracy=0.96, overall_accuracy=0.906]\n"
     ]
    },
    {
     "name": "stdout",
     "output_type": "stream",
     "text": [
      "Training Epoch 8\n"
     ]
    },
    {
     "name": "stderr",
     "output_type": "stream",
     "text": [
      "100%|██████████| 500/500 [00:26<00:00, 19.12it/s, episode_accuracy=0.94, episode_loss=0.156, epoch_accuracy=0.975, epoch_loss=0.0755]\n"
     ]
    },
    {
     "name": "stdout",
     "output_type": "stream",
     "text": [
      "Validating Epoch 8\n"
     ]
    },
    {
     "name": "stderr",
     "output_type": "stream",
     "text": [
      "100%|██████████| 100/100 [00:05<00:00, 17.68it/s, episode_accuracy=0.92, overall_accuracy=0.877]\n"
     ]
    },
    {
     "name": "stdout",
     "output_type": "stream",
     "text": [
      "Training Epoch 9\n"
     ]
    },
    {
     "name": "stderr",
     "output_type": "stream",
     "text": [
      "100%|██████████| 500/500 [00:26<00:00, 19.05it/s, episode_accuracy=0.98, episode_loss=0.0528, epoch_accuracy=0.976, epoch_loss=0.0715]\n"
     ]
    },
    {
     "name": "stdout",
     "output_type": "stream",
     "text": [
      "Validating Epoch 9\n"
     ]
    },
    {
     "name": "stderr",
     "output_type": "stream",
     "text": [
      "100%|██████████| 100/100 [00:05<00:00, 17.56it/s, episode_accuracy=0.94, overall_accuracy=0.91]\n"
     ]
    }
   ],
   "source": [
    "learning_rate = 0.05\n",
    "optimizer_1 = SGD(classifier_1.parameters(), lr=learning_rate)\n",
    "loss_function = CrossEntropyLoss()\n",
    "\n",
    "c1_best_val_accuracy = Learner.fit(\n",
    "    train_data_loader = train_loader,\n",
    "    val_data_loader = val_loader,\n",
    "    model = classifier_1,\n",
    "    optimizer=optimizer_1, \n",
    "    loss_function = loss_function,\n",
    "    epochs = 10,\n",
    "    tensorboard_log_path = None\n",
    "  )"
   ]
  },
  {
   "cell_type": "code",
   "execution_count": null,
   "metadata": {
    "colab": {
     "base_uri": "https://localhost:8080/"
    },
    "id": "qpYR-KIe96xC",
    "outputId": "033e73cf-f68d-489b-9819-3efa7a85540e"
   },
   "outputs": [
    {
     "data": {
      "text/plain": [
       "0.9138"
      ]
     },
     "execution_count": 13,
     "metadata": {},
     "output_type": "execute_result"
    }
   ],
   "source": [
    "c1_best_val_accuracy"
   ]
  },
  {
   "cell_type": "markdown",
   "metadata": {
    "id": "DNqfND1BxfrO"
   },
   "source": [
    "## Understand basic performance of Relation Networks after simple training"
   ]
  },
  {
   "cell_type": "code",
   "execution_count": null,
   "metadata": {
    "id": "N1gEeDIRnyS_"
   },
   "outputs": [],
   "source": [
    "# Load pretrained CNNEncoder, trained on miniImageNet on paper\n",
    "pretrained_weights = th.load(\"./pretrained_model/miniimagenet_feature_encoder_5way_5shot.pkl\", map_location=th.device('cpu'))\n",
    "pretrained_encoder = CNNEncoder()\n",
    "pretrained_encoder.load_state_dict(pretrained_weights)\n",
    "\n",
    "model_2 = pretrained_encoder.cuda()\n",
    "classifier_2 = RelationNetworks(backbone=model_2, output_softmax_score=False)"
   ]
  },
  {
   "cell_type": "code",
   "execution_count": null,
   "metadata": {
    "colab": {
     "base_uri": "https://localhost:8080/"
    },
    "id": "mUZdK3NVp8Lv",
    "outputId": "c67f90ed-76be-4867-942e-268d4e9d3324"
   },
   "outputs": [
    {
     "name": "stdout",
     "output_type": "stream",
     "text": [
      "Training Epoch 0\n"
     ]
    },
    {
     "name": "stderr",
     "output_type": "stream",
     "text": [
      "100%|██████████| 500/500 [01:34<00:00,  5.28it/s, episode_accuracy=0.28, episode_loss=0.158, epoch_accuracy=0.231, epoch_loss=0.161]\n"
     ]
    },
    {
     "name": "stdout",
     "output_type": "stream",
     "text": [
      "Validating Epoch 0\n"
     ]
    },
    {
     "name": "stderr",
     "output_type": "stream",
     "text": [
      "100%|██████████| 100/100 [00:16<00:00,  5.89it/s, episode_accuracy=0.28, overall_accuracy=0.263]\n"
     ]
    },
    {
     "name": "stdout",
     "output_type": "stream",
     "text": [
      "Training Epoch 1\n"
     ]
    },
    {
     "name": "stderr",
     "output_type": "stream",
     "text": [
      "100%|██████████| 500/500 [01:21<00:00,  6.16it/s, episode_accuracy=0.2, episode_loss=0.159, epoch_accuracy=0.306, epoch_loss=0.157]\n"
     ]
    },
    {
     "name": "stdout",
     "output_type": "stream",
     "text": [
      "Validating Epoch 1\n"
     ]
    },
    {
     "name": "stderr",
     "output_type": "stream",
     "text": [
      "100%|██████████| 100/100 [00:15<00:00,  6.35it/s, episode_accuracy=0.3, overall_accuracy=0.331]\n"
     ]
    },
    {
     "name": "stdout",
     "output_type": "stream",
     "text": [
      "Training Epoch 2\n"
     ]
    },
    {
     "name": "stderr",
     "output_type": "stream",
     "text": [
      "100%|██████████| 500/500 [01:21<00:00,  6.15it/s, episode_accuracy=0.44, episode_loss=0.14, epoch_accuracy=0.354, epoch_loss=0.152]\n"
     ]
    },
    {
     "name": "stdout",
     "output_type": "stream",
     "text": [
      "Validating Epoch 2\n"
     ]
    },
    {
     "name": "stderr",
     "output_type": "stream",
     "text": [
      "100%|██████████| 100/100 [00:15<00:00,  6.64it/s, episode_accuracy=0.32, overall_accuracy=0.378]\n"
     ]
    },
    {
     "name": "stdout",
     "output_type": "stream",
     "text": [
      "Training Epoch 3\n"
     ]
    },
    {
     "name": "stderr",
     "output_type": "stream",
     "text": [
      "100%|██████████| 500/500 [01:20<00:00,  6.18it/s, episode_accuracy=0.58, episode_loss=0.134, epoch_accuracy=0.397, epoch_loss=0.148]\n"
     ]
    },
    {
     "name": "stdout",
     "output_type": "stream",
     "text": [
      "Validating Epoch 3\n"
     ]
    },
    {
     "name": "stderr",
     "output_type": "stream",
     "text": [
      "100%|██████████| 100/100 [00:14<00:00,  6.68it/s, episode_accuracy=0.46, overall_accuracy=0.413]\n"
     ]
    },
    {
     "name": "stdout",
     "output_type": "stream",
     "text": [
      "Training Epoch 4\n"
     ]
    },
    {
     "name": "stderr",
     "output_type": "stream",
     "text": [
      "100%|██████████| 500/500 [01:20<00:00,  6.21it/s, episode_accuracy=0.36, episode_loss=0.147, epoch_accuracy=0.454, epoch_loss=0.141]\n"
     ]
    },
    {
     "name": "stdout",
     "output_type": "stream",
     "text": [
      "Validating Epoch 4\n"
     ]
    },
    {
     "name": "stderr",
     "output_type": "stream",
     "text": [
      "100%|██████████| 100/100 [00:15<00:00,  6.61it/s, episode_accuracy=0.46, overall_accuracy=0.447]\n"
     ]
    },
    {
     "name": "stdout",
     "output_type": "stream",
     "text": [
      "Training Epoch 5\n"
     ]
    },
    {
     "name": "stderr",
     "output_type": "stream",
     "text": [
      "100%|██████████| 500/500 [01:20<00:00,  6.24it/s, episode_accuracy=0.56, episode_loss=0.121, epoch_accuracy=0.498, epoch_loss=0.134]\n"
     ]
    },
    {
     "name": "stdout",
     "output_type": "stream",
     "text": [
      "Validating Epoch 5\n"
     ]
    },
    {
     "name": "stderr",
     "output_type": "stream",
     "text": [
      "100%|██████████| 100/100 [00:15<00:00,  6.61it/s, episode_accuracy=0.44, overall_accuracy=0.438]\n"
     ]
    },
    {
     "name": "stdout",
     "output_type": "stream",
     "text": [
      "Training Epoch 6\n"
     ]
    },
    {
     "name": "stderr",
     "output_type": "stream",
     "text": [
      "100%|██████████| 500/500 [01:20<00:00,  6.24it/s, episode_accuracy=0.54, episode_loss=0.128, epoch_accuracy=0.526, epoch_loss=0.129]\n"
     ]
    },
    {
     "name": "stdout",
     "output_type": "stream",
     "text": [
      "Validating Epoch 6\n"
     ]
    },
    {
     "name": "stderr",
     "output_type": "stream",
     "text": [
      "100%|██████████| 100/100 [00:15<00:00,  6.55it/s, episode_accuracy=0.34, overall_accuracy=0.498]\n"
     ]
    },
    {
     "name": "stdout",
     "output_type": "stream",
     "text": [
      "Training Epoch 7\n"
     ]
    },
    {
     "name": "stderr",
     "output_type": "stream",
     "text": [
      "100%|██████████| 500/500 [01:20<00:00,  6.19it/s, episode_accuracy=0.62, episode_loss=0.116, epoch_accuracy=0.564, epoch_loss=0.123]\n"
     ]
    },
    {
     "name": "stdout",
     "output_type": "stream",
     "text": [
      "Validating Epoch 7\n"
     ]
    },
    {
     "name": "stderr",
     "output_type": "stream",
     "text": [
      "100%|██████████| 100/100 [00:15<00:00,  6.61it/s, episode_accuracy=0.54, overall_accuracy=0.534]\n"
     ]
    },
    {
     "name": "stdout",
     "output_type": "stream",
     "text": [
      "Training Epoch 8\n"
     ]
    },
    {
     "name": "stderr",
     "output_type": "stream",
     "text": [
      "100%|██████████| 500/500 [01:20<00:00,  6.19it/s, episode_accuracy=0.64, episode_loss=0.105, epoch_accuracy=0.581, epoch_loss=0.12]\n"
     ]
    },
    {
     "name": "stdout",
     "output_type": "stream",
     "text": [
      "Validating Epoch 8\n"
     ]
    },
    {
     "name": "stderr",
     "output_type": "stream",
     "text": [
      "100%|██████████| 100/100 [00:15<00:00,  6.58it/s, episode_accuracy=0.5, overall_accuracy=0.544]\n"
     ]
    },
    {
     "name": "stdout",
     "output_type": "stream",
     "text": [
      "Training Epoch 9\n"
     ]
    },
    {
     "name": "stderr",
     "output_type": "stream",
     "text": [
      "100%|██████████| 500/500 [01:20<00:00,  6.18it/s, episode_accuracy=0.62, episode_loss=0.107, epoch_accuracy=0.602, epoch_loss=0.116]\n"
     ]
    },
    {
     "name": "stdout",
     "output_type": "stream",
     "text": [
      "Validating Epoch 9\n"
     ]
    },
    {
     "name": "stderr",
     "output_type": "stream",
     "text": [
      "100%|██████████| 100/100 [00:15<00:00,  6.61it/s, episode_accuracy=0.44, overall_accuracy=0.56]\n"
     ]
    }
   ],
   "source": [
    "learning_rate = 0.05\n",
    "optimizer_2 = SGD(classifier_2.parameters(), lr=learning_rate)\n",
    "loss_function = MSELoss()\n",
    "\n",
    "c2_best_val_accuracy = Learner.fit(\n",
    "    train_data_loader = train_loader,\n",
    "    val_data_loader = val_loader,\n",
    "    model = classifier_2,\n",
    "    optimizer=optimizer_2, \n",
    "    loss_function = loss_function,\n",
    "    epochs = 10,\n",
    "    tensorboard_log_path = None\n",
    "  )"
   ]
  },
  {
   "cell_type": "code",
   "execution_count": null,
   "metadata": {
    "colab": {
     "base_uri": "https://localhost:8080/"
    },
    "id": "XQBRMggdbjJP",
    "outputId": "b47d402d-4a60-40e0-d3b9-05bf845895f9"
   },
   "outputs": [
    {
     "data": {
      "text/plain": [
       "0.56"
      ]
     },
     "execution_count": 15,
     "metadata": {},
     "output_type": "execute_result"
    }
   ],
   "source": [
    "c2_best_val_accuracy"
   ]
  }
 ],
 "metadata": {
  "accelerator": "GPU",
  "colab": {
   "background_execution": "on",
   "collapsed_sections": [],
   "provenance": []
  },
  "gpuClass": "standard",
  "kernelspec": {
   "display_name": "Python 3.7.11 ('uol_cs_ds')",
   "language": "python",
   "name": "python3"
  },
  "language_info": {
   "codemirror_mode": {
    "name": "ipython",
    "version": 3
   },
   "file_extension": ".py",
   "mimetype": "text/x-python",
   "name": "python",
   "nbconvert_exporter": "python",
   "pygments_lexer": "ipython3",
   "version": "3.7.11"
  },
  "vscode": {
   "interpreter": {
    "hash": "f0cce63c4dfb0bb86f62a612dd7114054f78597e23270a8f9e0f580ca7558ff6"
   }
  }
 },
 "nbformat": 4,
 "nbformat_minor": 1
}
